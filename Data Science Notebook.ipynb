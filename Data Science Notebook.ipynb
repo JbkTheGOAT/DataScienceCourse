{
    "cells": [
        {
            "cell_type": "markdown",
            "metadata": {
                "collapsed": true,
                "id": "927b5a98-fad1-4161-add4-66a701e9d80f",
                "jupyter": {
                    "outputs_hidden": true
                }
            },
            "source": "This program prints Hello, World"
        },
        {
            "cell_type": "code",
            "execution_count": 1,
            "metadata": {
                "id": "15669408-741f-4c7e-a2d6-65939905e8e5"
            },
            "outputs": [
                {
                    "name": "stdout",
                    "output_type": "stream",
                    "text": "Hello, World\n"
                }
            ],
            "source": "print(\"Hello, World\")"
        },
        {
            "cell_type": "code",
            "execution_count": null,
            "metadata": {
                "id": "25eda678-6d8d-4499-b7a1-c679c899c296"
            },
            "outputs": [],
            "source": ""
        }
    ],
    "metadata": {
        "kernelspec": {
            "display_name": "Python 3.11",
            "language": "python",
            "name": "python3"
        },
        "language_info": {
            "codemirror_mode": {
                "name": "ipython",
                "version": 3
            },
            "file_extension": ".py",
            "mimetype": "text/x-python",
            "name": "python",
            "nbconvert_exporter": "python",
            "pygments_lexer": "ipython3",
            "version": "3.11.9"
        }
    },
    "nbformat": 4,
    "nbformat_minor": 4
}